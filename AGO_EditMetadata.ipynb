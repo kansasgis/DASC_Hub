{
 "cells": [
  {
   "cell_type": "markdown",
   "metadata": {},
   "source": [
    "# AGO Edit Metadata\n",
    "\n",
    "This notebook will edit metadata (specifically the source) for ArcGIS Online resources"
   ]
  },
  {
   "cell_type": "code",
   "execution_count": 1,
   "metadata": {},
   "outputs": [
    {
     "name": "stdout",
     "output_type": "stream",
     "text": [
      "········\n"
     ]
    }
   ],
   "source": [
    "# import modules\n",
    "import arcgis, getpass\n",
    "\n",
    "# get password\n",
    "password = getpass.getpass()\n",
    "username = \"\"\n",
    "\n",
    "# connect to ArcGIS Online\n",
    "gis = arcgis.gis.GIS(\"https://www.arcgis.com\", username, password)"
   ]
  },
  {
   "cell_type": "markdown",
   "metadata": {},
   "source": [
    "Set variables like the item to find & various pieces to update in the metadata if desired. "
   ]
  },
  {
   "cell_type": "code",
   "execution_count": 21,
   "metadata": {},
   "outputs": [
    {
     "data": {
      "text/plain": [
       "[<Item title:\"Wakarusa Watershed PDF Downloads\" type:Web Map owner:KansasGIS>]"
      ]
     },
     "execution_count": 21,
     "metadata": {},
     "output_type": "execute_result"
    }
   ],
   "source": [
    "title = \"Wakarusa Watershed PDF Downloads\"\n",
    "owner = username\n",
    "\n",
    "# set new metadata info\n",
    "lineage = \"From NRCS\"\n",
    "dateInfo = \"20160301\"\n",
    "credits = \"NRCS\""
   ]
  },
  {
   "cell_type": "markdown",
   "metadata": {},
   "source": [
    "Get an item, various query options available"
   ]
  },
  {
   "cell_type": "code",
   "execution_count": null,
   "metadata": {},
   "outputs": [],
   "source": [
    "#items = gis.content.search(query='title:%s owner:%s'% (title, owner), item_type='Feature Layer')\n",
    "items = gis.content.search(query='title:%s owner:%s'% (title, owner))\n",
    "#items = gis.content.search(query='owner:KansasGIS source:kansas state government gis')\n",
    "items"
   ]
  },
  {
   "cell_type": "markdown",
   "metadata": {},
   "source": [
    "Define terms of use"
   ]
  },
  {
   "cell_type": "code",
   "execution_count": null,
   "metadata": {},
   "outputs": [],
   "source": [
    "blurb = \"\"\n",
    "#blurb = \"\"\"The State of Kansas Geographic Information Systems Policy Board's Data Access and Support Center (DASC) and its representatives make no warranty or representation, either expressed or implied, with respect to the digital data and their documentation, their quality, performance, merchantability, or fitness for a particular purpose. The digital data are distributed on as-is basis, and the user assumes all risk to their quality, the results obtained from their use, and the performance of the data. In no event will the State of Kansas Geographic Information Systems Policy Board or its representatives be liable for any direct, indirect, special, incidental or consequential damages resulting from and defect in the State of Kansas DASC hosted digital data or in their documentation. This disclaimer of warranty is exclusive and in lieu of all others, oral or written, express or implied. No agent or employee is authorized to make any modification, extension, or addition to this warranty.\"\"\""
   ]
  },
  {
   "cell_type": "markdown",
   "metadata": {},
   "source": [
    "Loop through items from the returned list and append Metadata to typeKeywords. Without this step, Metadata isn't enabled."
   ]
  },
  {
   "cell_type": "code",
   "execution_count": 5,
   "metadata": {},
   "outputs": [
    {
     "name": "stdout",
     "output_type": "stream",
     "text": [
      "['ArcGIS Online', 'Explorer Web Map', 'Map', 'Online Map', 'Web Map', 'Metadata']\n"
     ]
    }
   ],
   "source": [
    "for targetItem in items:\n",
    "    \n",
    "\n",
    "    existingKeywords = targetItem.typeKeywords\n",
    "\n",
    "    if \"Metadata\" not in existingKeywords:\n",
    "\n",
    "        newKeywords = existingKeywords\n",
    "        newKeywords.append(\"Metadata\")\n",
    "\n",
    "        print(newKeywords)\n",
    "\n",
    "        prop = {\"typeKeywords\":newKeywords}\n",
    "        targetItem.update(item_properties=prop)"
   ]
  },
  {
   "cell_type": "markdown",
   "metadata": {},
   "source": [
    "Run fresh search to get the item again, double check typeKeywords"
   ]
  },
  {
   "cell_type": "code",
   "execution_count": 12,
   "metadata": {},
   "outputs": [
    {
     "data": {
      "text/plain": [
       "['transportation', 'Alternative', 'Fuels', 'Kansas']"
      ]
     },
     "execution_count": 12,
     "metadata": {},
     "output_type": "execute_result"
    }
   ],
   "source": [
    "index = 0 # change index as necessary to get the proper item, can run this and subsequent cells often\n",
    "items = gis.content.search(query='title:%s owner:%s'% (title, owner))\n",
    "targetItem = items[index]\n",
    "targetItem.typeKeywords\n",
    "oldTags = targetItem.tags\n",
    "oldTags"
   ]
  },
  {
   "cell_type": "markdown",
   "metadata": {},
   "source": [
    "Create a copy of the metadata template for this particular layer"
   ]
  },
  {
   "cell_type": "code",
   "execution_count": 13,
   "metadata": {},
   "outputs": [
    {
     "data": {
      "text/plain": [
       "'C:\\\\Users\\\\kristen\\\\Documents\\\\Data\\\\AGO\\\\metadata\\\\toUpload\\\\Alternative_Fuel_Stations_metadata_AGO.xml'"
      ]
     },
     "execution_count": 13,
     "metadata": {},
     "output_type": "execute_result"
    }
   ],
   "source": [
    "from shutil import copy2\n",
    "from os.path import join, exists\n",
    "from os import remove\n",
    "\n",
    "# copy metadata file\n",
    "\n",
    "# template metadata\n",
    "templateMetadata = r\"C:\\myPath\\template_metadata_AGO2.xml\"\n",
    "\n",
    "# output metadata\n",
    "# folder where you want to save a copy of the metadata to be uploaded to the ArcGIS Online item\n",
    "folder = r\"\" \n",
    "metadataName = targetItem.title.replace(\" \", \"_\").replace(\"Data:_\",\"\") + \"_metadata_AGO.xml\"\n",
    "metadataFile = join(folder, metadataName)\n",
    "\n",
    "if exists(metadataFile):\n",
    "    remove(metadataFile)\n",
    "\n",
    "copy2(templateMetadata, metadataFile)"
   ]
  },
  {
   "cell_type": "markdown",
   "metadata": {},
   "source": [
    "Edit metadata file, edit the updateDict based on what fields you need to update"
   ]
  },
  {
   "cell_type": "code",
   "execution_count": 15,
   "metadata": {},
   "outputs": [],
   "source": [
    "import xml.etree.ElementTree as etree\n",
    "from xml.etree.ElementTree import parse\n",
    "from xml.dom import minidom\n",
    "\n",
    "# code for editing metadata file here\n",
    "\n",
    "xmlKJ = parse(metadataFile)\n",
    "\n",
    "#updateDict = {\"CreaDate\": dateInfo, \"itemName\": targetItem.title.replace(\"Data: \", \"\"),\n",
    "#             \"SyncDate\": dateInfo, \"ModDate\": dateInfo, \"resTitle\": targetItem.title.replace(\"Data: \", \"\"),\n",
    "#             \"exDesc\": targetItem.snippet, \"idPurp\": targetItem.snippet, \"idAbs\": targetItem.description,\n",
    "#             \"idCredit\": credits,\"mdDateSt\": dateInfo, \"statement\": lineage}\n",
    "updateDict = {\"itemName\": targetItem.title.replace(\"Data: \", \"\"),\n",
    "             \"resTitle\": targetItem.title.replace(\"Data: \", \"\"),\n",
    "             \"exDesc\": targetItem.snippet, \"idPurp\": targetItem.snippet, \"idAbs\": targetItem.description,\n",
    "             \"idCredit\": credits, \"rpOrgName\": \"Data Access and Support Center\"}\n",
    "\n",
    "for update in updateDict:\n",
    "    newInfo = updateDict[update]\n",
    "    fixItems = xmlKJ.getiterator(update)\n",
    "    for fixItem in fixItems:\n",
    "        fixItem.text = newInfo\n",
    "        \n",
    "xmlKJ.write(metadataFile)"
   ]
  },
  {
   "cell_type": "markdown",
   "metadata": {},
   "source": [
    "Upload metadata file back into the targetItem"
   ]
  },
  {
   "cell_type": "code",
   "execution_count": 16,
   "metadata": {},
   "outputs": [
    {
     "data": {
      "text/plain": [
       "True"
      ]
     },
     "execution_count": 16,
     "metadata": {},
     "output_type": "execute_result"
    }
   ],
   "source": [
    "blankProp = {}\n",
    "\n",
    "targetItem.update(item_properties=blankProp, metadata=metadataFile)\n",
    "\n",
    "redoTags = {\"tags\": oldTags}\n",
    "\n",
    "targetItem.update(item_properties=redoTags)"
   ]
  },
  {
   "cell_type": "code",
   "execution_count": null,
   "metadata": {},
   "outputs": [],
   "source": []
  }
 ],
 "metadata": {
  "kernelspec": {
   "display_name": "Python 3 (ipykernel)",
   "language": "python",
   "name": "python3"
  },
  "language_info": {
   "codemirror_mode": {
    "name": "ipython",
    "version": 3
   },
   "file_extension": ".py",
   "mimetype": "text/x-python",
   "name": "python",
   "nbconvert_exporter": "python",
   "pygments_lexer": "ipython3",
   "version": "3.7.10"
  }
 },
 "nbformat": 4,
 "nbformat_minor": 4
}
